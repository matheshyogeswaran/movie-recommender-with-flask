{
  "cells": [
    {
      "cell_type": "markdown",
      "metadata": {
        "id": "view-in-github",
        "colab_type": "text"
      },
      "source": [
        "<a href=\"https://colab.research.google.com/github/matheshyogeswaran/movie-recommender-with-flask/blob/main/movi_rec.ipynb\" target=\"_parent\"><img src=\"https://colab.research.google.com/assets/colab-badge.svg\" alt=\"Open In Colab\"/></a>"
      ]
    },
    {
      "cell_type": "code",
      "execution_count": null,
      "metadata": {
        "id": "n558uyWK64bl"
      },
      "outputs": [],
      "source": [
        "import pandas as pd\n",
        "import numpy as np\n",
        "import matplotlib.pyplot as plt"
      ]
    },
    {
      "cell_type": "code",
      "execution_count": null,
      "metadata": {
        "id": "R7j-84ut7J1f"
      },
      "outputs": [],
      "source": [
        "ratings = pd.read_csv('ratings.dat',\n",
        "                      sep='::',\n",
        "                      engine='python',\n",
        "                      encoding='latin-1',\n",
        "                      names=['user_id', 'movie_id', 'rating', 'timestamp'],\n",
        "                      usecols=['user_id', 'movie_id', 'rating'])\n",
        "\n",
        "\n",
        "users = pd.read_csv('users.dat',\n",
        "                    sep='::',\n",
        "                    engine='python',\n",
        "                    encoding='latin-1',\n",
        "                    names=['user_id', 'gender', 'age', 'occupation', 'zipcode'],\n",
        "                    usecols=['user_id', 'gender', 'zipcode', 'age'])\n",
        "\n",
        "movies = pd.read_csv('movies.dat',\n",
        "                     sep='::',\n",
        "                     engine='python',\n",
        "                     encoding='latin-1',\n",
        "                     names=['movie_id', 'title', 'genres'],\n",
        "                     usecols=['movie_id', 'title', 'genres'])\n"
      ]
    },
    {
      "cell_type": "code",
      "execution_count": null,
      "metadata": {
        "id": "UY7BnbbC7M4M"
      },
      "outputs": [],
      "source": [
        "genre_labels = set()\n",
        "for s in movies['genres'].str.split('|').values:\n",
        "    genre_labels = genre_labels.union(set(s))"
      ]
    },
    {
      "cell_type": "code",
      "execution_count": null,
      "metadata": {
        "colab": {
          "base_uri": "https://localhost:8080/"
        },
        "id": "CdUqXZBM7Pon",
        "outputId": "f230cce7-fd42-4d0c-e507-d99529b0fab8"
      },
      "outputs": [
        {
          "name": "stdout",
          "output_type": "stream",
          "text": [
            "[('Drama', 1603), ('Comedy', 1200), ('Action', 503), ('Thriller', 492), ('Romance', 471)]\n"
          ]
        }
      ],
      "source": [
        "def count_word(dataset, ref_col, census):\n",
        "    keyword_count = dict()\n",
        "    for s in census:\n",
        "        keyword_count[s] = 0\n",
        "    for census_keywords in dataset[ref_col].str.split('|'):\n",
        "        if type(census_keywords) == float and pd.isnull(census_keywords):\n",
        "            continue\n",
        "        for s in [s for s in census_keywords if s in census]:\n",
        "            if pd.notnull(s):\n",
        "                keyword_count[s] += 1\n",
        "    keyword_occurences = sorted(keyword_count.items(), key=lambda x: x[1], reverse=True)\n",
        "    return keyword_occurences, keyword_count\n",
        "\n",
        "# Get genre occurrences\n",
        "keyword_occurences, dum = count_word(movies, 'genres', genre_labels)\n",
        "print(keyword_occurences[:5])"
      ]
    },
    {
      "cell_type": "code",
      "execution_count": null,
      "metadata": {
        "id": "7gBJjhIm7TTx"
      },
      "outputs": [],
      "source": [
        "movies['genres'] = movies['genres'].str.split('|')\n",
        "movies['genres'] = movies['genres'].fillna(\"\").astype('str')"
      ]
    },
    {
      "cell_type": "code",
      "execution_count": null,
      "metadata": {
        "id": "GC3nfDiL7Wpc"
      },
      "outputs": [],
      "source": [
        "from sklearn.feature_extraction.text import TfidfVectorizer\n",
        "\n",
        "tf = TfidfVectorizer(analyzer='word', ngram_range=(1, 2), min_df=1, stop_words='english')\n",
        "tfidf_matrix = tf.fit_transform(movies['genres'])"
      ]
    },
    {
      "cell_type": "code",
      "execution_count": null,
      "metadata": {
        "colab": {
          "base_uri": "https://localhost:8080/"
        },
        "id": "NKe1JxZt7Zos",
        "outputId": "a8ac65d4-6d5d-4a24-ab6a-38dcb3f7bc4d"
      },
      "outputs": [
        {
          "name": "stdout",
          "output_type": "stream",
          "text": [
            "[[1.         0.14193614 0.09010857 0.1056164 ]\n",
            " [0.14193614 1.         0.         0.        ]\n",
            " [0.09010857 0.         1.         0.1719888 ]\n",
            " [0.1056164  0.         0.1719888  1.        ]]\n"
          ]
        }
      ],
      "source": [
        "from sklearn.metrics.pairwise import linear_kernel\n",
        "\n",
        "cosine_sim = linear_kernel(tfidf_matrix, tfidf_matrix)\n",
        "print(cosine_sim[:4, :4])"
      ]
    },
    {
      "cell_type": "code",
      "execution_count": null,
      "metadata": {
        "id": "zj-kpfsT7c3q"
      },
      "outputs": [],
      "source": [
        "# Create a mapping from movie titles to indices\n",
        "titles = movies['title']\n",
        "indices = pd.Series(movies.index, index=movies['title'])\n",
        "\n",
        "def genre_recommendations(title):\n",
        "    idx = indices[title]\n",
        "    sim_scores = list(enumerate(cosine_sim[idx]))\n",
        "    sim_scores = sorted(sim_scores, key=lambda x: x[1], reverse=True)\n",
        "    sim_scores = sim_scores[1:21]\n",
        "    movie_indices = [i[0] for i in sim_scores]\n",
        "    return titles.iloc[movie_indices]"
      ]
    },
    {
      "cell_type": "code",
      "execution_count": null,
      "metadata": {
        "colab": {
          "base_uri": "https://localhost:8080/"
        },
        "id": "6-CZ3ApW7gwN",
        "outputId": "03f4043f-ea92-4d27-e077-91d1ea2e8a50"
      },
      "outputs": [
        {
          "name": "stdout",
          "output_type": "stream",
          "text": [
            "1050        Aladdin and the King of Thieves (1996)\n",
            "2072                      American Tail, An (1986)\n",
            "2073    American Tail: Fievel Goes West, An (1991)\n",
            "2285                     Rugrats Movie, The (1998)\n",
            "2286                          Bug's Life, A (1998)\n",
            "Name: title, dtype: object\n"
          ]
        }
      ],
      "source": [
        "print(genre_recommendations('Toy Story (1995)').head(5))"
      ]
    },
    {
      "cell_type": "code",
      "execution_count": null,
      "metadata": {
        "colab": {
          "base_uri": "https://localhost:8080/"
        },
        "id": "XQ5n6NMe7kaM",
        "outputId": "100a2952-cd90-4d95-a955-28b08c6f873c"
      },
      "outputs": [
        {
          "name": "stdout",
          "output_type": "stream",
          "text": [
            "Requirement already satisfied: Flask in /usr/local/lib/python3.10/dist-packages (2.2.5)\n",
            "Requirement already satisfied: Werkzeug>=2.2.2 in /usr/local/lib/python3.10/dist-packages (from Flask) (3.0.4)\n",
            "Requirement already satisfied: Jinja2>=3.0 in /usr/local/lib/python3.10/dist-packages (from Flask) (3.1.4)\n",
            "Requirement already satisfied: itsdangerous>=2.0 in /usr/local/lib/python3.10/dist-packages (from Flask) (2.2.0)\n",
            "Requirement already satisfied: click>=8.0 in /usr/local/lib/python3.10/dist-packages (from Flask) (8.1.7)\n",
            "Requirement already satisfied: MarkupSafe>=2.0 in /usr/local/lib/python3.10/dist-packages (from Jinja2>=3.0->Flask) (2.1.5)\n"
          ]
        }
      ],
      "source": [
        "!pip install Flask\n"
      ]
    },
    {
      "cell_type": "code",
      "execution_count": null,
      "metadata": {
        "colab": {
          "base_uri": "https://localhost:8080/"
        },
        "id": "cH5YYEAo7n4o",
        "outputId": "82970c90-0248-4a98-acb1-c3998869f65b"
      },
      "outputs": [
        {
          "name": "stdout",
          "output_type": "stream",
          "text": [
            " * Serving Flask app '__main__'\n",
            " * Debug mode: off\n"
          ]
        },
        {
          "name": "stderr",
          "output_type": "stream",
          "text": [
            "INFO:werkzeug:\u001b[31m\u001b[1mWARNING: This is a development server. Do not use it in a production deployment. Use a production WSGI server instead.\u001b[0m\n",
            " * Running on all addresses (0.0.0.0)\n",
            " * Running on http://127.0.0.1:5000\n",
            " * Running on http://172.28.0.12:5000\n",
            "INFO:werkzeug:\u001b[33mPress CTRL+C to quit\u001b[0m\n"
          ]
        }
      ],
      "source": [
        "from flask import Flask, jsonify, request\n",
        "from threading import Thread\n",
        "\n",
        "app = Flask(__name__)\n",
        "\n",
        "@app.route('/recommend', methods=['GET'])\n",
        "def recommend():\n",
        "    movie_name = request.args.get('movie_name')\n",
        "    if not movie_name:\n",
        "        return jsonify({\"error\": \"Movie name is required\"}), 400\n",
        "\n",
        "    try:\n",
        "        recommendations = genre_recommendations(movie_name)\n",
        "        return jsonify(recommendations.tolist())\n",
        "    except KeyError:\n",
        "        return jsonify({\"error\": \"Movie not found\"}), 404\n",
        "\n",
        "def run():\n",
        "    app.run(host='0.0.0.0', port=5000)\n",
        "\n",
        "# Start the app\n",
        "thread = Thread(target=run)\n",
        "thread.start()"
      ]
    },
    {
      "cell_type": "code",
      "execution_count": null,
      "metadata": {
        "colab": {
          "background_save": true,
          "base_uri": "https://localhost:8080/"
        },
        "id": "8V50AjCb7spq",
        "outputId": "b0275583-674e-4b72-93b7-94c9a3358f61"
      },
      "outputs": [
        {
          "name": "stdout",
          "output_type": "stream",
          "text": [
            "\u001b[K\u001b[?25h\n",
            "added 22 packages, and audited 23 packages in 3s\n",
            "\n",
            "3 packages are looking for funding\n",
            "  run `npm fund` for details\n",
            "\n",
            "1 \u001b[33m\u001b[1mmoderate\u001b[22m\u001b[39m severity vulnerability\n",
            "\n",
            "To address all issues (including breaking changes), run:\n",
            "  npm audit fix --force\n",
            "\n",
            "Run `npm audit` for details.\n",
            "your url is: https://metal-poems-sing.loca.lt\n"
          ]
        },
        {
          "name": "stderr",
          "output_type": "stream",
          "text": [
            "INFO:werkzeug:127.0.0.1 - - [12/Oct/2024 18:13:30] \"GET /recommend?movie_name=Toy%20Story%20(1995) HTTP/1.1\" 200 -\n",
            "INFO:werkzeug:127.0.0.1 - - [12/Oct/2024 18:13:41] \"GET /recommend?movie_name=Toy%20Story%20(1995) HTTP/1.1\" 200 -\n",
            "INFO:werkzeug:127.0.0.1 - - [12/Oct/2024 18:15:59] \"\u001b[33mGET /recommend?movie_name=Toy%20Story%20(19 HTTP/1.1\u001b[0m\" 404 -\n",
            "INFO:werkzeug:127.0.0.1 - - [12/Oct/2024 18:16:06] \"GET /recommend?movie_name=Toy%20Story%20(1995) HTTP/1.1\" 200 -\n"
          ]
        }
      ],
      "source": [
        "!npm install -g localtunnel\n",
        "!lt --port 5000"
      ]
    }
  ],
  "metadata": {
    "colab": {
      "provenance": [],
      "authorship_tag": "ABX9TyN2F4337m8SPrP5LZa6CJj+",
      "include_colab_link": true
    },
    "kernelspec": {
      "display_name": "Python 3",
      "name": "python3"
    },
    "language_info": {
      "name": "python"
    }
  },
  "nbformat": 4,
  "nbformat_minor": 0
}